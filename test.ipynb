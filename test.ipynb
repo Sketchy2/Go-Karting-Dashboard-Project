{
 "cells": [
  {
   "cell_type": "code",
   "execution_count": 1,
   "metadata": {},
   "outputs": [],
   "source": [
    "import pandas as pd\n",
    "df = pd.read_csv(\"RaceTimes.csv\")"
   ]
  },
  {
   "cell_type": "code",
   "execution_count": 4,
   "metadata": {},
   "outputs": [
    {
     "name": "stdout",
     "output_type": "stream",
     "text": [
      "    Time of Race        Date             Racer  Lap   Lap Time Position   \n",
      "0           5:32  06.01.2024  mitchell.whitten    1  01:17.050        #  \\\n",
      "1           5:32  06.01.2024  mitchell.whitten    2  00:37.893        #   \n",
      "2           5:32  06.01.2024  mitchell.whitten    3  00:36.681        #   \n",
      "3           5:32  06.01.2024  mitchell.whitten    4  00:37.669        #   \n",
      "4           5:32  06.01.2024  mitchell.whitten    5  00:35.939        #   \n",
      "..           ...         ...               ...  ...        ...      ...   \n",
      "205         5:12  16.11.2023       darian.king   10  00:38.893      NaN   \n",
      "206         5:12  16.11.2023       darian.king   11  00:40.677      NaN   \n",
      "207         5:12  16.11.2023       darian.king   12  00:39.268      NaN   \n",
      "208         5:12  16.11.2023       darian.king   13  00:38.254      NaN   \n",
      "209         5:12  16.11.2023       darian.king   14  00:40.071      NaN   \n",
      "\n",
      "             RaceID  Lap Time Seconds          RaceID Name  \n",
      "0    5:3206.01.2024            77.050  5:32pm @ 06/01/2024  \n",
      "1    5:3206.01.2024            37.893  5:32pm @ 06/01/2024  \n",
      "2    5:3206.01.2024            36.681  5:32pm @ 06/01/2024  \n",
      "3    5:3206.01.2024            37.669  5:32pm @ 06/01/2024  \n",
      "4    5:3206.01.2024            35.939  5:32pm @ 06/01/2024  \n",
      "..              ...               ...                  ...  \n",
      "205  5:1216.11.2023            38.893  5:12pm @ 16/11/2023  \n",
      "206  5:1216.11.2023            40.677  5:12pm @ 16/11/2023  \n",
      "207  5:1216.11.2023            39.268  5:12pm @ 16/11/2023  \n",
      "208  5:1216.11.2023            38.254  5:12pm @ 16/11/2023  \n",
      "209  5:1216.11.2023            40.071  5:12pm @ 16/11/2023  \n",
      "\n",
      "[210 rows x 9 columns]\n"
     ]
    }
   ],
   "source": [
    "import pandas as pd\n",
    "import re\n",
    "from datetime import datetime\n",
    "\n",
    "df = pd.read_csv(\"RaceTimes.csv\")\n",
    "\n",
    "def convert_to_seconds(time_str):\n",
    "    minutes, seconds, milliseconds = [int(part) for part in time_str.replace('.', ':').split(':')]\n",
    "    return minutes * 60 + seconds + milliseconds / 1000\n",
    "\n",
    "def convert_id_readable(race_id):\n",
    "    # Use regular expressions to extract the time and date parts\n",
    "    match = re.match(r\"(\\d+):(\\d+)(\\d{2})\\.(\\d{2}\\.\\d{4})\", race_id)\n",
    "    \n",
    "    if not match:\n",
    "        return \"Invalid format\"\n",
    "\n",
    "    # Extract the hour, minute, day, and the rest of the date parts\n",
    "    hour, minute, day, month_year = match.groups()\n",
    "    \n",
    "    # Format the hour to 12-hour time and assume it is PM\n",
    "    hour_int = int(hour)\n",
    "    # If the hour is less than 12, we assume it's PM, otherwise, we convert to 12-hour format\n",
    "    hour_formatted = f\"{hour_int if hour_int <= 12 else hour_int - 12}\"\n",
    "    time_suffix = \"pm\" if hour_int <= 12 else \"am\"\n",
    "    \n",
    "    # Construct the time with the correct suffix\n",
    "    time = f\"{hour_formatted}:{minute}{time_suffix}\"\n",
    "    \n",
    "    # Construct the date in the desired format\n",
    "    date_formatted = datetime.strptime(f\"{day}.{month_year}\", \"%d.%m.%Y\").strftime(\"%d/%m/%Y\")\n",
    "    \n",
    "    # Return the formatted string\n",
    "    return f\"{time} @ {date_formatted}\"\n",
    "\n",
    "print(df)\n"
   ]
  },
  {
   "cell_type": "code",
   "execution_count": 6,
   "metadata": {},
   "outputs": [],
   "source": [
    "df['Lap Time Seconds'] = df['Lap Time'].apply(convert_to_seconds)\n",
    "df['RaceID Name'] = df['RaceID'].apply(convert_id_readable)\n",
    "\n",
    "# Split 'RaceID Name' into two columns 'Race Date' and 'Race Time'\n",
    "df['Race Date'], df['Race Time'] = df['RaceID Name'].str.split('@',n=1,expand=True)\n",
    "\n",
    "# Convert 'Race Date' to a sortable format\n",
    "df['Race Date'] = pd.to_datetime(df['Race Date'], format='%d/%m/%Y').dt.strftime('%Y-%m-%d')\n",
    "\n",
    "# Sort by 'Race Date' then 'Race Time'\n",
    "df = df.sort_values(by=['Race Date', 'Race Time'])\n",
    "\n",
    "\n",
    "print(df)"
   ]
  }
 ],
 "metadata": {
  "kernelspec": {
   "display_name": "Python 3",
   "language": "python",
   "name": "python3"
  },
  "language_info": {
   "codemirror_mode": {
    "name": "ipython",
    "version": 3
   },
   "file_extension": ".py",
   "mimetype": "text/x-python",
   "name": "python",
   "nbconvert_exporter": "python",
   "pygments_lexer": "ipython3",
   "version": "3.11.7"
  }
 },
 "nbformat": 4,
 "nbformat_minor": 2
}
