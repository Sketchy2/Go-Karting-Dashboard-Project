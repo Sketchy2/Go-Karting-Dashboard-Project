{
 "cells": [
  {
   "cell_type": "code",
   "execution_count": 1,
   "metadata": {},
   "outputs": [],
   "source": [
    "import pandas as pd\n",
    "df = pd.read_csv(\"RaceTimes.csv\")"
   ]
  },
  {
   "cell_type": "code",
   "execution_count": 5,
   "metadata": {},
   "outputs": [],
   "source": [
    "import pandas as pd\n",
    "import re\n",
    "from datetime import datetime\n",
    "\n",
    "df = pd.read_csv(\"RaceTimes.csv\")\n"
   ]
  },
  {
   "cell_type": "code",
   "execution_count": 6,
   "metadata": {},
   "outputs": [
    {
     "name": "stdout",
     "output_type": "stream",
     "text": [
      "    Time of Race        Date             Racer  Lap   Lap Time   \n",
      "0           5:32  06.01.2024  mitchell.whitten    1  01:17.050  \\\n",
      "1           5:32  06.01.2024  mitchell.whitten    2  00:37.893   \n",
      "2           5:32  06.01.2024  mitchell.whitten    3  00:36.681   \n",
      "3           5:32  06.01.2024  mitchell.whitten    4  00:37.669   \n",
      "4           5:32  06.01.2024  mitchell.whitten    5  00:35.939   \n",
      "..           ...         ...               ...  ...        ...   \n",
      "205         5:12  16.11.2023       darian.king   10  00:38.893   \n",
      "206         5:12  16.11.2023       darian.king   11  00:40.677   \n",
      "207         5:12  16.11.2023       darian.king   12  00:39.268   \n",
      "208         5:12  16.11.2023       darian.king   13  00:38.254   \n",
      "209         5:12  16.11.2023       darian.king   14  00:40.071   \n",
      "\n",
      "             RaceID  Lap Time Seconds          RaceID Name  \n",
      "0    5:3206.01.2024            77.050  5:32pm @ 06/01/2024  \n",
      "1    5:3206.01.2024            37.893  5:32pm @ 06/01/2024  \n",
      "2    5:3206.01.2024            36.681  5:32pm @ 06/01/2024  \n",
      "3    5:3206.01.2024            37.669  5:32pm @ 06/01/2024  \n",
      "4    5:3206.01.2024            35.939  5:32pm @ 06/01/2024  \n",
      "..              ...               ...                  ...  \n",
      "205  5:1216.11.2023            38.893  5:12pm @ 16/11/2023  \n",
      "206  5:1216.11.2023            40.677  5:12pm @ 16/11/2023  \n",
      "207  5:1216.11.2023            39.268  5:12pm @ 16/11/2023  \n",
      "208  5:1216.11.2023            38.254  5:12pm @ 16/11/2023  \n",
      "209  5:1216.11.2023            40.071  5:12pm @ 16/11/2023  \n",
      "\n",
      "[210 rows x 8 columns]\n"
     ]
    }
   ],
   "source": [
    "print(df)"
   ]
  }
 ],
 "metadata": {
  "kernelspec": {
   "display_name": "Python 3",
   "language": "python",
   "name": "python3"
  },
  "language_info": {
   "codemirror_mode": {
    "name": "ipython",
    "version": 3
   },
   "file_extension": ".py",
   "mimetype": "text/x-python",
   "name": "python",
   "nbconvert_exporter": "python",
   "pygments_lexer": "ipython3",
   "version": "3.11.7"
  }
 },
 "nbformat": 4,
 "nbformat_minor": 2
}
