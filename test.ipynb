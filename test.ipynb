{
 "cells": [
  {
   "cell_type": "code",
   "execution_count": 33,
   "metadata": {},
   "outputs": [],
   "source": [
    "import pandas as pd\n",
    "df = pd.read_csv(\"RaceTimes.csv\")"
   ]
  },
  {
   "cell_type": "code",
   "execution_count": 34,
   "metadata": {},
   "outputs": [
    {
     "name": "stdout",
     "output_type": "stream",
     "text": [
      "    Time of Race        Date             Racer  Lap   Lap Time  \\\n",
      "0           4:52  01.10.2023  josh.kolappillil    1  01:36.378   \n",
      "1           4:52  01.10.2023  josh.kolappillil    2  00:42.928   \n",
      "2           4:52  01.10.2023  josh.kolappillil    3  00:41.775   \n",
      "3           4:52  01.10.2023  josh.kolappillil    4  00:42.382   \n",
      "4           4:52  01.10.2023  josh.kolappillil    5  00:45.255   \n",
      "..           ...         ...               ...  ...        ...   \n",
      "345         5:32  06.01.2024       darian.king   10  00:37.822   \n",
      "346         5:32  06.01.2024       darian.king   11  00:38.199   \n",
      "347         5:32  06.01.2024       darian.king   12  00:38.118   \n",
      "348         5:32  06.01.2024       darian.king   13  00:37.781   \n",
      "349         5:32  06.01.2024       darian.king   14  00:39.492   \n",
      "\n",
      "             RaceID  Lap Time Seconds          RaceID Name Race Time  \\\n",
      "0    4:5201.10.2023            96.378  4:52pm @ 01/10/2023    4:52pm   \n",
      "1    4:5201.10.2023            42.928  4:52pm @ 01/10/2023    4:52pm   \n",
      "2    4:5201.10.2023            41.775  4:52pm @ 01/10/2023    4:52pm   \n",
      "3    4:5201.10.2023            42.382  4:52pm @ 01/10/2023    4:52pm   \n",
      "4    4:5201.10.2023            45.255  4:52pm @ 01/10/2023    4:52pm   \n",
      "..              ...               ...                  ...       ...   \n",
      "345  5:3206.01.2024            37.822  5:32pm @ 06/01/2024    5:32pm   \n",
      "346  5:3206.01.2024            38.199  5:32pm @ 06/01/2024    5:32pm   \n",
      "347  5:3206.01.2024            38.118  5:32pm @ 06/01/2024    5:32pm   \n",
      "348  5:3206.01.2024            37.781  5:32pm @ 06/01/2024    5:32pm   \n",
      "349  5:3206.01.2024            39.492  5:32pm @ 06/01/2024    5:32pm   \n",
      "\n",
      "      Race Date  \n",
      "0    2023-10-01  \n",
      "1    2023-10-01  \n",
      "2    2023-10-01  \n",
      "3    2023-10-01  \n",
      "4    2023-10-01  \n",
      "..          ...  \n",
      "345  2024-01-06  \n",
      "346  2024-01-06  \n",
      "347  2024-01-06  \n",
      "348  2024-01-06  \n",
      "349  2024-01-06  \n",
      "\n",
      "[350 rows x 10 columns]\n"
     ]
    }
   ],
   "source": [
    "import pandas as pd\n",
    "import re\n",
    "from datetime import datetime\n",
    "\n",
    "def convert_to_seconds(time_str):\n",
    "    minutes, seconds, milliseconds = [int(part) for part in time_str.replace('.', ':').split(':')]\n",
    "    return minutes * 60 + seconds + milliseconds / 1000\n",
    "\n",
    "def convert_id_readable(race_id):\n",
    "    # Use regular expressions to extract the time and date parts\n",
    "    match = re.match(r\"(\\d+):(\\d+)(\\d{2})\\.(\\d{2}\\.\\d{4})\", race_id)\n",
    "    \n",
    "    if not match:\n",
    "        return \"Invalid format\"\n",
    "\n",
    "    # Extract the hour, minute, day, and the rest of the date parts\n",
    "    hour, minute, day, month_year = match.groups()\n",
    "    \n",
    "    # Format the hour to 12-hour time and assume it is PM\n",
    "    hour_int = int(hour)\n",
    "    # If the hour is less than 12, we assume it's PM, otherwise, we convert to 12-hour format\n",
    "    hour_formatted = f\"{hour_int if hour_int <= 12 else hour_int - 12}\"\n",
    "    time_suffix = \"pm\" if hour_int <= 12 else \"am\"\n",
    "    \n",
    "    # Construct the time with the correct suffix\n",
    "    time = f\"{hour_formatted}:{minute}{time_suffix}\"\n",
    "    \n",
    "    # Construct the date in the desired format\n",
    "    date_formatted = datetime.strptime(f\"{day}.{month_year}\", \"%d.%m.%Y\").strftime(\"%d/%m/%Y\")\n",
    "    \n",
    "    # Return the formatted string\n",
    "    return f\"{time} @ {date_formatted}\"\n",
    "\n",
    "df['Lap Time Seconds'] = df['Lap Time'].apply(convert_to_seconds)\n",
    "df['RaceID Name'] = df['RaceID'].apply(convert_id_readable)\n",
    "print(df)\n"
   ]
  },
  {
   "cell_type": "code",
   "execution_count": 35,
   "metadata": {},
   "outputs": [
    {
     "name": "stdout",
     "output_type": "stream",
     "text": [
      "    Time of Race        Date             Racer  Lap   Lap Time  \\\n",
      "0           4:52  01.10.2023  josh.kolappillil    1  01:36.378   \n",
      "1           4:52  01.10.2023  josh.kolappillil    2  00:42.928   \n",
      "2           4:52  01.10.2023  josh.kolappillil    3  00:41.775   \n",
      "3           4:52  01.10.2023  josh.kolappillil    4  00:42.382   \n",
      "4           4:52  01.10.2023  josh.kolappillil    5  00:45.255   \n",
      "..           ...         ...               ...  ...        ...   \n",
      "345         5:32  06.01.2024       darian.king   10  00:37.822   \n",
      "346         5:32  06.01.2024       darian.king   11  00:38.199   \n",
      "347         5:32  06.01.2024       darian.king   12  00:38.118   \n",
      "348         5:32  06.01.2024       darian.king   13  00:37.781   \n",
      "349         5:32  06.01.2024       darian.king   14  00:39.492   \n",
      "\n",
      "             RaceID  Lap Time Seconds          RaceID Name Race Time  \\\n",
      "0    4:5201.10.2023            96.378  4:52pm @ 01/10/2023   4:52pm    \n",
      "1    4:5201.10.2023            42.928  4:52pm @ 01/10/2023   4:52pm    \n",
      "2    4:5201.10.2023            41.775  4:52pm @ 01/10/2023   4:52pm    \n",
      "3    4:5201.10.2023            42.382  4:52pm @ 01/10/2023   4:52pm    \n",
      "4    4:5201.10.2023            45.255  4:52pm @ 01/10/2023   4:52pm    \n",
      "..              ...               ...                  ...       ...   \n",
      "345  5:3206.01.2024            37.822  5:32pm @ 06/01/2024   5:32pm    \n",
      "346  5:3206.01.2024            38.199  5:32pm @ 06/01/2024   5:32pm    \n",
      "347  5:3206.01.2024            38.118  5:32pm @ 06/01/2024   5:32pm    \n",
      "348  5:3206.01.2024            37.781  5:32pm @ 06/01/2024   5:32pm    \n",
      "349  5:3206.01.2024            39.492  5:32pm @ 06/01/2024   5:32pm    \n",
      "\n",
      "      Race Date  \n",
      "0    01/10/2023  \n",
      "1    01/10/2023  \n",
      "2    01/10/2023  \n",
      "3    01/10/2023  \n",
      "4    01/10/2023  \n",
      "..          ...  \n",
      "345  06/01/2024  \n",
      "346  06/01/2024  \n",
      "347  06/01/2024  \n",
      "348  06/01/2024  \n",
      "349  06/01/2024  \n",
      "\n",
      "[350 rows x 10 columns]\n"
     ]
    }
   ],
   "source": [
    "# Correctly split 'RaceID Name' into 'Race Date' and 'Race Time'\n",
    "split_data = df['RaceID Name'].str.split('@ ', n=1, expand=True)\n",
    "df['Race Time'] = split_data[0]\n",
    "df['Race Date'] = split_data[1]\n",
    "\n",
    "print(df)\n"
   ]
  },
  {
   "cell_type": "code",
   "execution_count": 40,
   "metadata": {},
   "outputs": [],
   "source": [
    "df = df.sort_values(by=['Race Date', 'Race Time'], ascending=False)\n",
    "\n",
    "df['Race Date'] = pd.to_datetime(df['Race Date'], format='%d/%m/%Y').dt.strftime('%Y-%m-%d')\n",
    "\n",
    "# Sort by 'Race Date' then 'Race Time'\n",
    "df = df.sort_values(by=['Race Date', 'Race Time'], ascending=False)\n",
    "\n",
    "df.to_csv('test.csv', index=False)"
   ]
  }
 ],
 "metadata": {
  "kernelspec": {
   "display_name": "Python 3",
   "language": "python",
   "name": "python3"
  },
  "language_info": {
   "codemirror_mode": {
    "name": "ipython",
    "version": 3
   },
   "file_extension": ".py",
   "mimetype": "text/x-python",
   "name": "python",
   "nbconvert_exporter": "python",
   "pygments_lexer": "ipython3",
   "version": "3.12.1"
  }
 },
 "nbformat": 4,
 "nbformat_minor": 2
}
